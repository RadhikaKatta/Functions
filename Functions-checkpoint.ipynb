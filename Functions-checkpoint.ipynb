{
 "cells": [
  {
   "cell_type": "code",
   "execution_count": 11,
   "id": "5aae3b4a-0371-49de-a7db-316858b7ac69",
   "metadata": {},
   "outputs": [
    {
     "name": "stdout",
     "output_type": "stream",
     "text": [
      "Hello\n",
      "vijay vijay vijay vijay vijay \n"
     ]
    }
   ],
   "source": [
    "#functions\n",
    "def hi():\n",
    "    print(\"Hello\") # responses of calles\n",
    "    print(\"vijay \"*5)\n",
    "hi()    #caller\n",
    " "
   ]
  },
  {
   "cell_type": "code",
   "execution_count": 17,
   "id": "308ee288-05e8-4118-9888-45d39204baa8",
   "metadata": {},
   "outputs": [
    {
     "name": "stdin",
     "output_type": "stream",
     "text": [
      "enter the money: 10\n",
      "enter the money: 10\n"
     ]
    },
    {
     "name": "stdout",
     "output_type": "stream",
     "text": [
      "total amount : 20\n"
     ]
    }
   ],
   "source": [
    "#function with parameters/return value\n",
    "def add(a,b):\n",
    "    return a+b\n",
    "student1=int(input(\"enter the money:\"))\n",
    "student2=int(input(\"enter the money:\"))\n",
    "total=add(student1,student2)\n",
    "print(\"total amount :\",total)"
   ]
  },
  {
   "cell_type": "code",
   "execution_count": 19,
   "id": "44663b5d-e460-41d7-a4bc-903f684346e0",
   "metadata": {},
   "outputs": [
    {
     "name": "stdin",
     "output_type": "stream",
     "text": [
      "enter the money: 10\n",
      "enter the money: 10\n"
     ]
    },
    {
     "name": "stdout",
     "output_type": "stream",
     "text": [
      "total: 20\n"
     ]
    }
   ],
   "source": [
    "#Arguement pass no return value\n",
    "def add(a,b):\n",
    "    print(\"total:\",student1+student2)\n",
    "student1=int(input(\"enter the money:\"))\n",
    "student2=int(input(\"enter the money:\"))\n",
    "total=add(student1,student2)"
   ]
  },
  {
   "cell_type": "code",
   "execution_count": 23,
   "id": "70edfd10-d05c-4b2a-9b04-aed83f53ef44",
   "metadata": {},
   "outputs": [
    {
     "name": "stdout",
     "output_type": "stream",
     "text": [
      "value in the function is 3.14159\n"
     ]
    }
   ],
   "source": [
    "#no Arguement pass but return value\n",
    "def value():\n",
    "    return 3.14159\n",
    "result=value()    \n",
    "print(\"value in the function is\",result)"
   ]
  },
  {
   "cell_type": "code",
   "execution_count": null,
   "id": "31c50fe4-81d3-464a-a039-bfad73ee8740",
   "metadata": {},
   "outputs": [],
   "source": []
  },
  {
   "cell_type": "code",
   "execution_count": 35,
   "id": "ec83b0ba-279d-4138-be69-ee0520bf7302",
   "metadata": {},
   "outputs": [
    {
     "name": "stdin",
     "output_type": "stream",
     "text": [
      "enter name: Radhika\n"
     ]
    },
    {
     "name": "stdout",
     "output_type": "stream",
     "text": [
      "Welcome Radhika\n"
     ]
    }
   ],
   "source": [
    "def get_name():\n",
    "    name=input(\"enter name:\")\n",
    "    return name\n",
    "username=get_name()\n",
    "print(\"Welcome\",username)"
   ]
  },
  {
   "cell_type": "code",
   "execution_count": 31,
   "id": "068d7175-0645-407d-9aa5-d0d22172effe",
   "metadata": {},
   "outputs": [
    {
     "name": "stdout",
     "output_type": "stream",
     "text": [
      "110\n"
     ]
    }
   ],
   "source": [
    "#no arguement and return value\n",
    "a=100\n",
    "def value(a):\n",
    "    return a+10\n",
    "print(value(a))\n",
    "    "
   ]
  },
  {
   "cell_type": "code",
   "execution_count": 41,
   "id": "4732db9b-b647-4a97-be0b-a97385ee973a",
   "metadata": {},
   "outputs": [
    {
     "name": "stdin",
     "output_type": "stream",
     "text": [
      "enter data: 1\n"
     ]
    },
    {
     "name": "stdout",
     "output_type": "stream",
     "text": [
      "Hello 1\n"
     ]
    }
   ],
   "source": [
    "def hi(name):\n",
    "    print(\"Hello\",name)\n",
    "a=int(input(\"enter data:\"))    \n",
    "hi(a)    "
   ]
  },
  {
   "cell_type": "code",
   "execution_count": 43,
   "id": "a65118dd-3dcc-4d13-9c5c-cd09ca35b271",
   "metadata": {},
   "outputs": [
    {
     "name": "stdin",
     "output_type": "stream",
     "text": [
      "enter data: 1\n"
     ]
    },
    {
     "name": "stdout",
     "output_type": "stream",
     "text": [
      "Hello Guest\n"
     ]
    }
   ],
   "source": [
    "#default arguement\n",
    "def hi(name='Guest'):\n",
    "    print(\"Hello\",name)\n",
    "a=input(\"enter data:\")    \n",
    "hi()    "
   ]
  },
  {
   "cell_type": "code",
   "execution_count": 47,
   "id": "25e87fc2-f7f3-4715-a00a-799f52afcfdc",
   "metadata": {},
   "outputs": [
    {
     "name": "stdin",
     "output_type": "stream",
     "text": [
      "enter data: radha\n"
     ]
    },
    {
     "name": "stdout",
     "output_type": "stream",
     "text": [
      "Hello Guest\n",
      "Hello radha\n"
     ]
    }
   ],
   "source": [
    "#default arguement\n",
    "def hi(name='Guest'):\n",
    "    print(\"Hello\",name)\n",
    "a=input(\"enter data:\")    \n",
    "hi()  \n",
    "hi(a)"
   ]
  },
  {
   "cell_type": "code",
   "execution_count": 51,
   "id": "9a20cb5c-7f94-4b9d-87f9-5ce911964e67",
   "metadata": {},
   "outputs": [
    {
     "name": "stdout",
     "output_type": "stream",
     "text": [
      "name: vijay\n",
      "age: 32\n",
      "name: marks\n",
      "age: 0\n",
      "name: unknown\n",
      "age: 33\n",
      "name: unknown\n",
      "age: 0\n"
     ]
    }
   ],
   "source": [
    "def info(name='unknown',age=0):\n",
    "    print(\"name:\",name)\n",
    "    print(\"age:\",age)\n",
    "info(\"vijay\",32)\n",
    "info(\"marks\")\n",
    "info(age=33)\n",
    "info()"
   ]
  },
  {
   "cell_type": "code",
   "execution_count": 57,
   "id": "b0797349-56e6-40c1-92d8-e59612681189",
   "metadata": {},
   "outputs": [
    {
     "name": "stdin",
     "output_type": "stream",
     "text": [
      "enter a: 10\n",
      "enter b: 10\n"
     ]
    },
    {
     "name": "stdout",
     "output_type": "stream",
     "text": [
      "sum= 20\n",
      "subtraction= 0\n",
      "product= 100\n",
      "Division= 1.0\n"
     ]
    }
   ],
   "source": [
    "#multriple return values in single function\n",
    "def cal(a,b):\n",
    "    return a+b,a-b,a*b,a/b\n",
    "a=int(input(\"enter a:\"))\n",
    "b=int(input(\"enter b:\"))\n",
    "sum,diff,pro,div=cal(a,b)\n",
    "print(\"sum=\",sum)\n",
    "print(\"subtraction=\",diff)\n",
    "print(\"product=\",pro)    \n",
    "print(\"Division=\",div)"
   ]
  },
  {
   "cell_type": "code",
   "execution_count": null,
   "id": "603b9b00-5e30-4b3f-9980-f08cba99ed0a",
   "metadata": {},
   "outputs": [],
   "source": []
  }
 ],
 "metadata": {
  "kernelspec": {
   "display_name": "Python 3 (ipykernel)",
   "language": "python",
   "name": "python3"
  },
  "language_info": {
   "codemirror_mode": {
    "name": "ipython",
    "version": 3
   },
   "file_extension": ".py",
   "mimetype": "text/x-python",
   "name": "python",
   "nbconvert_exporter": "python",
   "pygments_lexer": "ipython3",
   "version": "3.12.7"
  }
 },
 "nbformat": 4,
 "nbformat_minor": 5
}
