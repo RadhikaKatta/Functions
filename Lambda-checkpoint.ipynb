{
 "cells": [
  {
   "cell_type": "code",
   "execution_count": 1,
   "id": "65e23e7c-f577-4152-9479-df0e84751ec8",
   "metadata": {},
   "outputs": [
    {
     "name": "stdout",
     "output_type": "stream",
     "text": [
      "27\n"
     ]
    }
   ],
   "source": [
    "###lambda  userdefinedvariable: arithmetic operator\n",
    "expo=lambda a: a**a\n",
    "print(expo(3))\n"
   ]
  },
  {
   "cell_type": "code",
   "execution_count": 11,
   "id": "e44fbf29-4add-4fc7-bc94-6c40e90008bf",
   "metadata": {},
   "outputs": [
    {
     "name": "stdout",
     "output_type": "stream",
     "text": [
      "sum: 3\n"
     ]
    }
   ],
   "source": [
    "#for two variables\n",
    "add=lambda a,b:a+b\n",
    "print(\"sum:\",add(1,2))"
   ]
  },
  {
   "cell_type": "code",
   "execution_count": 9,
   "id": "b1659af2-3a30-4e3e-8269-424bde5a90e1",
   "metadata": {},
   "outputs": [
    {
     "name": "stdout",
     "output_type": "stream",
     "text": [
      "is 6 even? True\n"
     ]
    }
   ],
   "source": [
    "is_even=lambda n : n%2==0\n",
    "print(\"is 6 even?\",is_even(6))\n"
   ]
  },
  {
   "cell_type": "code",
   "execution_count": 13,
   "id": "67f9a4ed-8df4-4ac1-99ea-16cd61961cb5",
   "metadata": {},
   "outputs": [
    {
     "name": "stdout",
     "output_type": "stream",
     "text": [
      "[1, 4, 9, 16, 25, 36, 49, 64, 81]\n"
     ]
    }
   ],
   "source": [
    "#squares of given list numbers\n",
    "nums=[1,2,3,4,5,6,7,8,9]\n",
    "sq=list(map(lambda n: n*n,nums))\n",
    "print(sq)"
   ]
  },
  {
   "cell_type": "code",
   "execution_count": null,
   "id": "624b4dd4-bb0c-4a43-a065-371f4a08f362",
   "metadata": {},
   "outputs": [],
   "source": []
  }
 ],
 "metadata": {
  "kernelspec": {
   "display_name": "Python 3 (ipykernel)",
   "language": "python",
   "name": "python3"
  },
  "language_info": {
   "codemirror_mode": {
    "name": "ipython",
    "version": 3
   },
   "file_extension": ".py",
   "mimetype": "text/x-python",
   "name": "python",
   "nbconvert_exporter": "python",
   "pygments_lexer": "ipython3",
   "version": "3.12.7"
  }
 },
 "nbformat": 4,
 "nbformat_minor": 5
}
