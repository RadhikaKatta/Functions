{
 "cells": [
  {
   "cell_type": "code",
   "execution_count": 1,
   "id": "ab2c7e74-3139-4f0d-964c-69eea20d28aa",
   "metadata": {},
   "outputs": [
    {
     "name": "stdin",
     "output_type": "stream",
     "text": [
      "enter the number as space seperated: 1 2 3 4 5  6  7\n"
     ]
    },
    {
     "name": "stdout",
     "output_type": "stream",
     "text": [
      "even count: 3\n",
      "odd count: 4\n"
     ]
    }
   ],
   "source": [
    "'''write a fun't to count the list of even ,odd numberss calculate  the even odd confirmation in the fun't be  such that \n",
    "evaluated number list will be passed to the main program'''\n",
    "'''contraint:give the input as user defined'''\n",
    "def eo(numbers):\n",
    "    e=0\n",
    "    o=0\n",
    "    for n in numbers:\n",
    "        if n%2==0:\n",
    "            e+=1\n",
    "        else: \n",
    "            o+=1\n",
    "    return e,o        \n",
    "num=input(\"enter the number as space seperated:\")\n",
    "num_list=list(map(int,num.split()))\n",
    "e,o=eo(num_list)\n",
    "print(\"even count:\",e)\n",
    "print(\"odd count:\",o)\n"
   ]
  },
  {
   "cell_type": "code",
   "execution_count": null,
   "id": "0f99f21c-c8eb-44cc-822d-ef181631a0d7",
   "metadata": {},
   "outputs": [],
   "source": []
  }
 ],
 "metadata": {
  "kernelspec": {
   "display_name": "Python 3 (ipykernel)",
   "language": "python",
   "name": "python3"
  },
  "language_info": {
   "codemirror_mode": {
    "name": "ipython",
    "version": 3
   },
   "file_extension": ".py",
   "mimetype": "text/x-python",
   "name": "python",
   "nbconvert_exporter": "python",
   "pygments_lexer": "ipython3",
   "version": "3.12.7"
  }
 },
 "nbformat": 4,
 "nbformat_minor": 5
}
